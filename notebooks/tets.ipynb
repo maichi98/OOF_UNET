{
 "cells": [
  {
   "cell_type": "code",
   "id": "initial_id",
   "metadata": {
    "collapsed": true,
    "ExecuteTime": {
     "end_time": "2025-03-26T19:54:18.697808Z",
     "start_time": "2025-03-26T19:54:18.695893Z"
    }
   },
   "source": [
    "import pandas as pd\n",
    "\n",
    "from oof_unet.data import OofUniqueMachineDataset, VolumeBasedBatchSampler\n",
    "from torch.utils.data import DataLoader\n"
   ],
   "outputs": [],
   "execution_count": 6
  },
  {
   "metadata": {
    "ExecuteTime": {
     "end_time": "2025-03-26T19:54:28.304245Z",
     "start_time": "2025-03-26T19:54:28.299796Z"
    }
   },
   "cell_type": "code",
   "source": [
    "df = pd.read_csv('../oof_unet/Dataset001_final.csv')\n",
    "df_train = df[df['split'] == 'Train']\n",
    "df_train = df_train.reset_index(drop=True)\n",
    "\n",
    "list_train = df_train['id_dosemap'].tolist()\n"
   ],
   "id": "3e5362761dbfb573",
   "outputs": [],
   "execution_count": 7
  },
  {
   "metadata": {
    "ExecuteTime": {
     "end_time": "2025-03-26T19:54:29.086953Z",
     "start_time": "2025-03-26T19:54:29.085107Z"
    }
   },
   "cell_type": "code",
   "source": "from sklearn.model_selection import KFold",
   "id": "eac0243a75aba06e",
   "outputs": [],
   "execution_count": 8
  },
  {
   "metadata": {
    "ExecuteTime": {
     "end_time": "2025-03-26T19:54:29.641549Z",
     "start_time": "2025-03-26T19:54:29.639648Z"
    }
   },
   "cell_type": "code",
   "source": "kf = KFold(n_splits=5, shuffle=True, random_state=42)",
   "id": "e5126263b26f8553",
   "outputs": [],
   "execution_count": 9
  },
  {
   "metadata": {
    "ExecuteTime": {
     "end_time": "2025-03-26T19:54:30.172757Z",
     "start_time": "2025-03-26T19:54:30.167902Z"
    }
   },
   "cell_type": "code",
   "source": [
    "for fold, (_, val_idx) in enumerate(kf.split(df_train)):\n",
    "    df_train.loc[val_idx, 'fold'] = f'Val_{fold}'"
   ],
   "id": "10e251edc3df7480",
   "outputs": [],
   "execution_count": 10
  },
  {
   "metadata": {
    "ExecuteTime": {
     "end_time": "2025-03-26T19:55:16.041083Z",
     "start_time": "2025-03-26T19:55:16.037267Z"
    }
   },
   "cell_type": "code",
   "source": "df_train.to_csv('Dataset001_final_train.csv', index=False)",
   "id": "7dc33920c200f2dd",
   "outputs": [],
   "execution_count": 13
  },
  {
   "metadata": {
    "ExecuteTime": {
     "end_time": "2025-03-26T19:55:04.303412Z",
     "start_time": "2025-03-26T19:55:04.300550Z"
    }
   },
   "cell_type": "code",
   "source": [
    "df_test = df[df['split'] == 'Test']\n",
    "df_test = df_test.reset_index(drop=True)\n",
    "\n",
    "df_test.to_csv('Dataset001_final_test.csv', index=False)"
   ],
   "id": "2dab403e39f7fe39",
   "outputs": [],
   "execution_count": 12
  },
  {
   "metadata": {
    "ExecuteTime": {
     "end_time": "2025-03-26T19:48:45.044631Z",
     "start_time": "2025-03-26T19:48:45.042611Z"
    }
   },
   "cell_type": "code",
   "source": [
    "train_dataset = OofUniqueMachineDataset(list_dosemaps=list_train, split='Train')\n",
    "train_sampler = VolumeBasedBatchSampler(dataset=train_dataset, n_units=20, unit_volume=10_000_000)\n",
    "\n",
    "dataloader = DataLoader(train_dataset, batch_sampler=train_sampler, num_workers=4)\n"
   ],
   "id": "e697f5a52f81dcd8",
   "outputs": [],
   "execution_count": 16
  },
  {
   "metadata": {
    "ExecuteTime": {
     "end_time": "2025-03-26T19:49:17.993755Z",
     "start_time": "2025-03-26T19:48:45.171886Z"
    }
   },
   "cell_type": "code",
   "source": [
    "i = 0\n",
    "\n",
    "for batch in dataloader:\n",
    "\n",
    "    print(batch[\"in_field\"].shape)\n",
    "\n",
    "    i += 1\n",
    "\n",
    "    if i == 10:\n",
    "        break"
   ],
   "id": "e23a0a717db38cf7",
   "outputs": [
    {
     "name": "stdout",
     "output_type": "stream",
     "text": [
      "torch.Size([5, 240, 162, 876])\n",
      "torch.Size([5, 240, 162, 876])\n",
      "torch.Size([5, 240, 162, 876])\n",
      "torch.Size([4, 220, 233, 787])\n",
      "torch.Size([4, 220, 233, 787])\n",
      "torch.Size([4, 220, 233, 787])\n",
      "torch.Size([4, 220, 233, 787])\n",
      "torch.Size([4, 220, 233, 787])\n",
      "torch.Size([2, 220, 233, 787])\n",
      "torch.Size([10, 194, 139, 705])\n"
     ]
    }
   ],
   "execution_count": 17
  },
  {
   "metadata": {
    "ExecuteTime": {
     "end_time": "2025-03-26T19:47:17.734368Z",
     "start_time": "2025-03-26T19:47:17.732334Z"
    }
   },
   "cell_type": "code",
   "source": "batch[\"in_field\"].shape",
   "id": "4d4038bbfb4f58df",
   "outputs": [
    {
     "data": {
      "text/plain": [
       "torch.Size([8, 172, 209, 623])"
      ]
     },
     "execution_count": 14,
     "metadata": {},
     "output_type": "execute_result"
    }
   ],
   "execution_count": 14
  },
  {
   "metadata": {},
   "cell_type": "code",
   "outputs": [],
   "execution_count": null,
   "source": "",
   "id": "b8e3864c86cdc389"
  }
 ],
 "metadata": {
  "kernelspec": {
   "display_name": "Python 3",
   "language": "python",
   "name": "python3"
  },
  "language_info": {
   "codemirror_mode": {
    "name": "ipython",
    "version": 2
   },
   "file_extension": ".py",
   "mimetype": "text/x-python",
   "name": "python",
   "nbconvert_exporter": "python",
   "pygments_lexer": "ipython2",
   "version": "2.7.6"
  }
 },
 "nbformat": 4,
 "nbformat_minor": 5
}
